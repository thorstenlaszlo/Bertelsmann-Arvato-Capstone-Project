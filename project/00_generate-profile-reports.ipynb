{
 "cells": [
  {
   "cell_type": "markdown",
   "metadata": {},
   "source": [
    "# Create Profile reports\n",
    "\n",
    "The pandas_profiling-library is very useful. You can generate HTML-Profilereports, where you can get an overview of the features (Plots and statitical facts).\n"
   ]
  },
  {
   "cell_type": "code",
   "execution_count": 1,
   "metadata": {},
   "outputs": [
    {
     "name": "stderr",
     "output_type": "stream",
     "text": [
      "C:\\Users\\thorssc\\AppData\\Local\\Continuum\\anaconda3\\lib\\site-packages\\astropy\\config\\configuration.py:557: ConfigurationMissingWarning: Configuration defaults will be used due to FileExistsError:17 on None\n",
      "  warn(ConfigurationMissingWarning(msg))\n"
     ]
    }
   ],
   "source": [
    "import numpy as np\n",
    "import pandas as pd\n",
    "from pandas_profiling import ProfileReport\n",
    "from pathlib import Path"
   ]
  },
  {
   "cell_type": "code",
   "execution_count": 2,
   "metadata": {},
   "outputs": [],
   "source": [
    "export_dir = 'profile-reports'\n",
    "Path(export_dir).mkdir(parents=True, exist_ok=True)"
   ]
  },
  {
   "cell_type": "code",
   "execution_count": 3,
   "metadata": {},
   "outputs": [
    {
     "name": "stderr",
     "output_type": "stream",
     "text": [
      "C:\\Users\\thorssc\\AppData\\Local\\Continuum\\anaconda3\\lib\\site-packages\\IPython\\core\\interactiveshell.py:3146: DtypeWarning: Columns (18,19) have mixed types.Specify dtype option on import or set low_memory=False.\n",
      "  interactivity=interactivity, compiler=compiler, result=result)\n"
     ]
    }
   ],
   "source": [
    "azdias = pd.read_csv('../data/Udacity_AZDIAS_052018.csv', sep=';')\n",
    "customers = pd.read_csv('../data/Udacity_CUSTOMERS_052018.csv', sep=';')"
   ]
  },
  {
   "cell_type": "markdown",
   "metadata": {},
   "source": [
    "## Customers and AZDIAS to HTML"
   ]
  },
  {
   "cell_type": "code",
   "execution_count": 4,
   "metadata": {},
   "outputs": [
    {
     "name": "stdout",
     "output_type": "stream",
     "text": [
      "generating customer report\n",
      "Time taken:  0:02:41.528118\n",
      "generating azdias report\n",
      "Time taken:  0:07:17.287977\n"
     ]
    }
   ],
   "source": [
    "from time import time\n",
    "import datetime\n",
    "from numpy.random import RandomState\n",
    "\n",
    "rs=RandomState(42)\n",
    "t = time() \n",
    "\n",
    "print(\"generating customer report\")\n",
    "report = ProfileReport(customers,               \n",
    "                       title='Report CUSTOMERS',              \n",
    "                       minimal = True)\n",
    "report.to_file(\"profile-reports/report-customers.html\")\n",
    "delta = datetime.timedelta(seconds=(time() - t))\n",
    "print(\"Time taken: \", delta)\n",
    "\n",
    "t = time() \n",
    "\n",
    "print(\"generating azdias report\")\n",
    "report = ProfileReport(azdias,\n",
    "                       title='Report AZDIAS',              \n",
    "                       minimal = True)\n",
    "report.to_file(\"profile-reports/report-azdias.html\")\n",
    "delta = datetime.timedelta(seconds=(time() - t))\n",
    "print(\"Time taken: \", delta)\n",
    "\n",
    "del customers\n",
    "del azdias"
   ]
  },
  {
   "cell_type": "markdown",
   "metadata": {},
   "source": [
    "## MAILOUT_train and MAILOUT_test to HTML"
   ]
  },
  {
   "cell_type": "code",
   "execution_count": 8,
   "metadata": {},
   "outputs": [
    {
     "name": "stderr",
     "output_type": "stream",
     "text": [
      "C:\\Users\\thorssc\\AppData\\Local\\Continuum\\anaconda3\\lib\\site-packages\\IPython\\core\\interactiveshell.py:3146: DtypeWarning: Columns (18,19) have mixed types.Specify dtype option on import or set low_memory=False.\n",
      "  interactivity=interactivity, compiler=compiler, result=result)\n"
     ]
    }
   ],
   "source": [
    "mailout_test = pd.read_csv('../data/Udacity_MAILOUT_052018_TEST.csv', sep=';')\n",
    "mailout_train = pd.read_csv('../data/Udacity_MAILOUT_052018_TRAIN.csv', sep=';')"
   ]
  },
  {
   "cell_type": "code",
   "execution_count": 9,
   "metadata": {},
   "outputs": [
    {
     "name": "stdout",
     "output_type": "stream",
     "text": [
      "generating train report\n",
      "Time taken:  0:01:51.923994\n",
      "generating test report\n",
      "Time taken:  0:01:48.575818\n"
     ]
    }
   ],
   "source": [
    "t = time() \n",
    "\n",
    "print(\"generating train report\")\n",
    "report = ProfileReport(mailout_train,               \n",
    "                       title='Report MAILOUT_TRAIN',              \n",
    "                       minimal = True)\n",
    "report.to_file(f\"{export_dir}/report-mailout_train.html\")\n",
    "delta = datetime.timedelta(seconds=(time() - t))\n",
    "print(\"Time taken: \", delta)\n",
    "\n",
    "t = time() \n",
    "\n",
    "print(\"generating test report\")\n",
    "report = ProfileReport(mailout_test,               \n",
    "                       title='Report MAILOUT_TEST',              \n",
    "                       minimal = True)\n",
    "report.to_file(f\"{export_dir}/report-mailout_test.html\")\n",
    "delta = datetime.timedelta(seconds=(time() - t))\n",
    "print(\"Time taken: \", delta)"
   ]
  }
 ],
 "metadata": {
  "kernelspec": {
   "display_name": "Python 3",
   "language": "python",
   "name": "python3"
  },
  "language_info": {
   "codemirror_mode": {
    "name": "ipython",
    "version": 3
   },
   "file_extension": ".py",
   "mimetype": "text/x-python",
   "name": "python",
   "nbconvert_exporter": "python",
   "pygments_lexer": "ipython3",
   "version": "3.7.9"
  }
 },
 "nbformat": 4,
 "nbformat_minor": 2
}
